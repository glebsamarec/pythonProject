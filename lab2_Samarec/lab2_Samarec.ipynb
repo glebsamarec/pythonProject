{
 "cells": [
  {
   "cell_type": "markdown",
   "metadata": {},
   "source": [
    "#### 06.04.23, &copy; Самарец Глєб КІ-20-1, 2023"
   ]
  },
  {
   "cell_type": "markdown",
   "metadata": {},
   "source": [
    "# Лабораторна робота №2. "
   ]
  },
  {
   "cell_type": "markdown",
   "metadata": {},
   "source": [
    "__Тема:__ _Функція print()_ \\\n",
    "__Мета:__ _навчитися писати і запускати найпростіші програми на Python з використанням функції `print()`_ \n"
   ]
  },
  {
   "cell_type": "markdown",
   "metadata": {},
   "source": [
    "![image](image/img1.png)\n",
    "![image](image/img2.png)"
   ]
  },
  {
   "cell_type": "markdown",
   "metadata": {},
   "source": [
    "# [Посилання на репозиторій](https://github.com/glebsamarec/pythonProject)\n",
    "\n"
   ]
  },
  {
   "cell_type": "markdown",
   "metadata": {},
   "source": [
    "### Контрольні запитання\n",
    "\n",
    "1. Записати ієрархію операторів.\n",
    "![image](image/img3.png)\n",
    "\n",
    "3. Записти на Python обчислення виразу $3^{3^4}$\n",
    "  \n",
    "\n"
   ]
  },
  {
   "cell_type": "code",
   "execution_count": null,
   "metadata": {},
   "outputs": [],
   "source": [
    " result = (3**3)**4\n",
    "#або\n",
    " result = pow(pow(3,3),4)\n",
    "#або\n",
    " result = np.power(np.power(3,3),4)"
   ]
  },
  {
   "cell_type": "markdown",
   "metadata": {},
   "source": [
    "3. Що робить escape-символ \\n при виводі на екран функцією `print()`? \\\n",
    "      \\n - символ перенесення рядка"
   ]
  }
 ],
 "metadata": {
  "kernelspec": {
   "display_name": "Python 3 (ipykernel)",
   "language": "python",
   "name": "python3"
  },
  "language_info": {
   "codemirror_mode": {
    "name": "ipython",
    "version": 3
   },
   "file_extension": ".py",
   "mimetype": "text/x-python",
   "name": "python",
   "nbconvert_exporter": "python",
   "pygments_lexer": "ipython3",
   "version": "3.8.8"
  }
 },
 "nbformat": 4,
 "nbformat_minor": 4
}
